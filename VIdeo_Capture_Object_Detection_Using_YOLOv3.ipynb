{
 "cells": [
  {
   "cell_type": "code",
   "execution_count": 1,
   "id": "1169dae1-26e4-47bd-aa62-d95958d14ca5",
   "metadata": {},
   "outputs": [],
   "source": [
    "import cv2\n",
    "import numpy as np\n",
    "import matplotlib.pyplot as plt\n"
   ]
  },
  {
   "cell_type": "code",
   "execution_count": 2,
   "id": "2e026443-4ae6-41c9-89a5-a621d8adae5d",
   "metadata": {},
   "outputs": [],
   "source": [
    "# Load YOLOv3-tiny\n",
    "yolo = cv2.dnn.readNet(\"yolov3.weights\",\"yolov3.cfg.txt\")"
   ]
  },
  {
   "cell_type": "code",
   "execution_count": 3,
   "id": "023708fb-9ee8-4cc8-a42d-0b798b5deabc",
   "metadata": {},
   "outputs": [],
   "source": [
    "# Load COCO classes\n",
    "with open(\"coco.names.txt\", 'r') as f:\n",
    "    classes = f.read().splitlines()"
   ]
  },
  {
   "cell_type": "code",
   "execution_count": 4,
   "id": "99187879-78a7-42bb-bf40-81deaff32097",
   "metadata": {},
   "outputs": [],
   "source": [
    "# Get output layer names\n",
    "layer_names = yolo.getLayerNames()\n",
    "\n",
    "# get output layer use final detectiion\n",
    "out_layers = yolo.getUnconnectedOutLayers()\n",
    "if isinstance(out_layers[0], (list, np.ndarray)):\n",
    "    output_layers = [layer_names[i[0] - 1] for i in out_layers]\n",
    "else:\n",
    "    output_layers = [layer_names[i - 1] for i in out_layers]\n"
   ]
  },
  {
   "cell_type": "code",
   "execution_count": 5,
   "id": "de416e8e-5e5e-4eaf-8a8b-f4b9a422fad1",
   "metadata": {},
   "outputs": [],
   "source": [
    "# Colors for each class\n",
    "colors = np.random.uniform(0, 255, size=(len(classes), 3))\n"
   ]
  },
  {
   "cell_type": "code",
   "execution_count": 7,
   "id": "cdf2e2af-6d9c-4355-8559-0697f10aa23d",
   "metadata": {},
   "outputs": [],
   "source": [
    "# Start Video Capture \n",
    "cap = cv2.VideoCapture(\"demo2.MP4\")    # \"0\"--->for webcamara\n",
    "\n",
    "frame_id = 0  # for skipping frames\n",
    "\n",
    "while True:\n",
    "    ret, frame = cap.read()\n",
    "    frame = cv2.resize(frame,(600,600))\n",
    "    if not ret:\n",
    "        break\n",
    "\n",
    "    frame_id += 1\n",
    "\n",
    "    # Skip every odd-numbered frame to processing speed double and smoothness detection.\n",
    "    if frame_id % 2 != 0:\n",
    "        continue\n",
    "\n",
    "    # Stores frame to height, width, and channel information for scaling detections.\n",
    "    height, width, channels = frame.shape\n",
    "\n",
    "    # Create blob from input frame (reduced size for faster processing)\n",
    "    blob = cv2.dnn.blobFromImage(frame, 1/255.0, (320, 320), swapRB=True, crop=False)         #swapRB--->True changes BGR (OpenCV default) to RGB (YOLO expects RGB)\n",
    "\n",
    "                                                                                            # crop--->False keeps original aspect ratio.\n",
    "    # input for detection\n",
    "    yolo.setInput(blob)\n",
    "\n",
    "    # Forward pass\n",
    "    outs = yolo.forward(output_layers)\n",
    "\n",
    "     # Data for detected objects\n",
    "    class_ids = []\n",
    "    confidences = []\n",
    "    boxes = []\n",
    "\n",
    "    # Process outputs\n",
    "    for out in outs:\n",
    "        for detection in out:\n",
    "            scores = detection[5:]\n",
    "            class_id = np.argmax(scores)\n",
    "            confidence = scores[class_id]\n",
    "            if confidence > 0.5:  # confidence threshold\n",
    "                center_x = int(detection[0] * width)\n",
    "                center_y = int(detection[1] * height)\n",
    "                w = int(detection[2] * width)\n",
    "                h = int(detection[3] * height)\n",
    "\n",
    "                # Rectangle coordinates\n",
    "                x = int(center_x - w / 2)\n",
    "                y = int(center_y - h / 2)\n",
    "\n",
    "                boxes.append([x, y, w, h])\n",
    "                confidences.append(float(confidence))\n",
    "                class_ids.append(class_id)\n",
    "\n",
    "    # Non-max use to remove overlapping boxes\n",
    "    indexes = cv2.dnn.NMSBoxes(boxes, confidences, 0.5, 0.4)\n",
    "\n",
    "    # Draw boxes\n",
    "    for i in range(len(boxes)):\n",
    "        if i in indexes:\n",
    "            x, y, w, h = boxes[i]\n",
    "            label = str(classes[class_ids[i]])\n",
    "            confidence = confidences[i]\n",
    "            color = colors[class_ids[i]]\n",
    "            cv2.rectangle(frame, (x, y), (x + w, y + h), color, 2)\n",
    "            cv2.putText(frame, f\"{label} {int(confidence*100)}%\", (x, y - 10),\n",
    "                        cv2.FONT_HERSHEY_SIMPLEX, 0.5, color, 2)\n",
    "\n",
    "    # Show frame\n",
    "    cv2.imshow(\"YOLOv3-tiny Real-time Detection\", frame)\n",
    "\n",
    "    # Exit on P\n",
    "    if cv2.waitKey(25) & 0xff == ord(\"p\"):\n",
    "        break\n",
    "\n",
    "cap.release()\n",
    "cv2.destroyAllWindows()\n"
   ]
  },
  {
   "cell_type": "code",
   "execution_count": null,
   "id": "d0eebe0f-66ce-4add-bc68-76d4e8de988c",
   "metadata": {},
   "outputs": [],
   "source": []
  },
  {
   "cell_type": "code",
   "execution_count": null,
   "id": "c8b3f141",
   "metadata": {},
   "outputs": [],
   "source": []
  }
 ],
 "metadata": {
  "kernelspec": {
   "display_name": "base",
   "language": "python",
   "name": "python3"
  },
  "language_info": {
   "codemirror_mode": {
    "name": "ipython",
    "version": 3
   },
   "file_extension": ".py",
   "mimetype": "text/x-python",
   "name": "python",
   "nbconvert_exporter": "python",
   "pygments_lexer": "ipython3",
   "version": "3.12.4"
  }
 },
 "nbformat": 4,
 "nbformat_minor": 5
}
